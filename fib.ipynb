{
 "cells": [
  {
   "cell_type": "code",
   "execution_count": 1,
   "id": "0a892eb6-be57-434c-87ed-2b9140fd1814",
   "metadata": {},
   "outputs": [],
   "source": [
    "# feel free to comment out this code block\n",
    "\n",
    "from five_one_one import is_python_version\n",
    "assert is_python_version(3, 9, 6)"
   ]
  },
  {
   "cell_type": "code",
   "execution_count": 2,
   "id": "f56a7905-d1d6-471d-b47b-6fb1ffd42423",
   "metadata": {},
   "outputs": [],
   "source": [
    "from math import sqrt\n",
    "from time import time"
   ]
  },
  {
   "cell_type": "code",
   "execution_count": 3,
   "id": "82492304-98c9-47ff-9bda-a3c37ca4fc6e",
   "metadata": {},
   "outputs": [],
   "source": [
    "def test_fib(f):\n",
    "    assert f(1) == 1\n",
    "    assert f(2) == 1\n",
    "    assert f(3) == 2\n",
    "    assert f(4) == 3\n",
    "    assert f(5) == 5\n",
    "    assert f(6) == 8\n",
    "    assert f(7) == 13\n",
    "    assert f(8) == 21"
   ]
  },
  {
   "cell_type": "code",
   "execution_count": 4,
   "id": "b8aad303-ae98-475a-8144-ce2ba01b7837",
   "metadata": {},
   "outputs": [],
   "source": [
    "def fib0(x):\n",
    "    \"\"\"\n",
    "        Recursive implementation with no `if`s and no `assert`s\n",
    "    \"\"\"\n",
    "    try:\n",
    "        # raises ValueError if x is negative\n",
    "        _ = sqrt(x)\n",
    "        # raises ZeroDivisionError if x is 0\n",
    "        _ = 1 / x\n",
    "        # raises ZeroDivisionError if x is 1\n",
    "        _ = 1 / (x - 1)\n",
    "        # raises ZeroDivisionError if x is 2\n",
    "        _ = 1 / (x - 2)\n",
    "    except (ZeroDivisionError, ValueError):\n",
    "        # if x <= 2, return 1\n",
    "        return 1\n",
    "    \n",
    "    return fib0(x-1) + fib0(x-2)\n",
    "\n",
    "test_fib(fib0)"
   ]
  },
  {
   "cell_type": "code",
   "execution_count": 5,
   "id": "a3ddf339-452e-4810-a888-66268684b11b",
   "metadata": {},
   "outputs": [],
   "source": [
    "def fib1(x):\n",
    "    \"\"\"\n",
    "        Classic recursive solution\n",
    "    \"\"\"\n",
    "    if x <= 2:\n",
    "        return 1\n",
    "    return fib1(x-1) + fib1(x-2)\n",
    "\n",
    "test_fib(fib1)"
   ]
  },
  {
   "cell_type": "code",
   "execution_count": 6,
   "id": "4bf47ce6-19bc-4d84-8a4d-4a7d180f4bec",
   "metadata": {},
   "outputs": [],
   "source": [
    "def fib2(x):\n",
    "    \"\"\"\n",
    "        Classic iterative approach\n",
    "    \"\"\"\n",
    "    if x <= 2:\n",
    "        return 1\n",
    "    seq = [1, 1]\n",
    "    while len(seq) < x:\n",
    "        seq.append(seq[-1] + seq[-2])\n",
    "    return seq[x-1]\n",
    "\n",
    "test_fib(fib2)"
   ]
  },
  {
   "cell_type": "code",
   "execution_count": 7,
   "id": "50e0d534-cdc6-4c8d-a1e4-a4ca77eb21cf",
   "metadata": {},
   "outputs": [],
   "source": [
    "def fib3(x):\n",
    "    \"\"\"\n",
    "        Recursive solution with memoization\n",
    "    \"\"\"\n",
    "    \n",
    "    if x <= 2:\n",
    "        return 1\n",
    "    \n",
    "    memo = {1: 1, 2: 1}\n",
    "    def fib3_inner(_x):\n",
    "        if _x not in memo:\n",
    "            memo[_x] = fib3_inner(_x-1) + fib3_inner(_x-2)\n",
    "        return memo[_x]\n",
    "    \n",
    "    return fib3_inner(x)\n",
    "\n",
    "test_fib(fib3)"
   ]
  },
  {
   "cell_type": "code",
   "execution_count": 8,
   "id": "932eedce-df7e-4f1b-a3ef-093042aed108",
   "metadata": {},
   "outputs": [],
   "source": [
    "def fib4(x):\n",
    "    \"\"\"\n",
    "        Alternate iterative approach\n",
    "    \"\"\"\n",
    "    if x <= 2:\n",
    "        return 1\n",
    "    seq = [1]*x\n",
    "    for i in range(2, x):\n",
    "        seq[i] = seq[i-1] + seq[i-2]\n",
    "    return seq[-1]\n",
    "\n",
    "test_fib(fib4)"
   ]
  },
  {
   "cell_type": "code",
   "execution_count": 9,
   "id": "fbb6ef48-18e2-49a1-b1eb-c08cebe6d8a3",
   "metadata": {},
   "outputs": [],
   "source": [
    "def fib5(x):\n",
    "    \"\"\"\n",
    "        Clever iterative approach that doesn't require a list (with for loop)\n",
    "    \"\"\"\n",
    "    if x <= 2:\n",
    "        return 1\n",
    "    former, latter = 1, 1\n",
    "    for _ in range(2, x):\n",
    "        former, latter = latter, former+latter\n",
    "    return latter\n",
    "\n",
    "test_fib(fib5)"
   ]
  },
  {
   "cell_type": "code",
   "execution_count": 10,
   "id": "f8b2e102-7965-4b71-97be-1acf79630e0f",
   "metadata": {},
   "outputs": [],
   "source": [
    "def fib6(x):\n",
    "    \"\"\"\n",
    "        Clever iterative approach that doesn't require a list (with while loop)\n",
    "    \"\"\"\n",
    "    if x <= 2:\n",
    "        return 1\n",
    "    former, latter = 1, 1\n",
    "    ix = 2\n",
    "    while ix < x:\n",
    "        former, latter = latter, former+latter\n",
    "        ix += 1\n",
    "    return latter\n",
    "\n",
    "test_fib(fib6)"
   ]
  },
  {
   "cell_type": "code",
   "execution_count": 11,
   "id": "41e899cf-0810-45fa-a959-848c510acee3",
   "metadata": {},
   "outputs": [],
   "source": [
    "import matplotlib.pyplot as plt\n",
    "import numpy as np\n",
    "from timeit import timeit"
   ]
  },
  {
   "cell_type": "code",
   "execution_count": 12,
   "id": "e6790ffc-8861-4f4e-a91a-00dfed779bce",
   "metadata": {},
   "outputs": [],
   "source": [
    "# arguments to fib\n",
    "MIN = 5\n",
    "MAX = 25\n",
    "INC = 5\n",
    "xs = np.array(range(MIN, MAX+1, INC))"
   ]
  },
  {
   "cell_type": "code",
   "execution_count": 13,
   "id": "ee907b77-8124-4695-9681-c488f87cf0b6",
   "metadata": {},
   "outputs": [],
   "source": [
    "# this block will probably take a while to run\n",
    "\n",
    "ys = np.array([\n",
    "    [\n",
    "        timeit(f\"fib({x})\", setup=f\"from __main__ import fib{n} as fib\", number=10)\n",
    "        for x in xs\n",
    "    ]\n",
    "    for n in range(7)\n",
    "])\n"
   ]
  },
  {
   "cell_type": "code",
   "execution_count": 14,
   "id": "f00a225c-a0ad-489d-b2dc-e865a4718dd8",
   "metadata": {},
   "outputs": [],
   "source": [
    "def plot(fibs_to_use=[0, 1, 2, 3, 4, 5, 6]):\n",
    "    fig, ax = plt.subplots(nrows=1, ncols=1, figsize=(8, 8))\n",
    "\n",
    "    ax.set_xlabel(\"Arg to fib\")\n",
    "    ax.set_xticklabels(str(x) for x in xs)\n",
    "    ax.set_xticks(xs)\n",
    "\n",
    "    ax.set_ylabel(\"Runtime (seconds)\")\n",
    "\n",
    "    legend_and_colors = [\n",
    "        (\"try/except\", \"red\",),\n",
    "        (\"naive recursive\", \"orange\",),\n",
    "        (\"iterative (list, while)\", \"lightblue\",),\n",
    "        (\"memoized recursive\", \"yellow\",),\n",
    "        (\"iterative (list, for)\", \"darkblue\",),\n",
    "        (\"iterative (clever, for)\", \"lightgreen\",),\n",
    "        (\"iterative (clever, while)\", \"darkgreen\",),\n",
    "    ]\n",
    "    legend, colors = zip(*legend_and_colors)\n",
    "    \n",
    "    width = float(INC)/float(len(fibs_to_use)+1)\n",
    "    bars = [ax.bar(xs+(s*width), ys[ix], width=width-0.1, color=colors[ix]) for s, ix in enumerate(fibs_to_use)]\n",
    "    ax.legend(bars, [legend[ix] for ix in fibs_to_use])\n",
    "    \n",
    "    fig.show()"
   ]
  },
  {
   "cell_type": "code",
   "execution_count": 15,
   "id": "4ea6483c-2789-4465-9fb5-4cc919694307",
   "metadata": {},
   "outputs": [
    {
     "name": "stderr",
     "output_type": "stream",
     "text": [
      "/tmp/ipykernel_2871848/3804917472.py:5: UserWarning: FixedFormatter should only be used together with FixedLocator\n",
      "  ax.set_xticklabels(str(x) for x in xs)\n",
      "/tmp/ipykernel_2871848/3804917472.py:25: UserWarning: Matplotlib is currently using module://matplotlib_inline.backend_inline, which is a non-GUI backend, so cannot show the figure.\n",
      "  fig.show()\n"
     ]
    },
    {
     "data": {
      "image/png": "[encoded data removed]",
      "text/plain": [
       "<Figure size 576x576 with 1 Axes>"
      ]
     },
     "metadata": {
      "needs_background": "light"
     },
     "output_type": "display_data"
    }
   ],
   "source": [
    "# compare recursive approaches\n",
    "plot(fibs_to_use=[0, 1, 3,])"
   ]
  },
  {
   "cell_type": "code",
   "execution_count": 16,
   "id": "57695857-a551-45e8-8f12-17cd112990d4",
   "metadata": {},
   "outputs": [
    {
     "name": "stderr",
     "output_type": "stream",
     "text": [
      "/tmp/ipykernel_2871848/3804917472.py:5: UserWarning: FixedFormatter should only be used together with FixedLocator\n",
      "  ax.set_xticklabels(str(x) for x in xs)\n",
      "/tmp/ipykernel_2871848/3804917472.py:25: UserWarning: Matplotlib is currently using module://matplotlib_inline.backend_inline, which is a non-GUI backend, so cannot show the figure.\n",
      "  fig.show()\n"
     ]
    },
    {
     "data": {
      "image/png": "[encoded data removed]",
      "text/plain": [
       "<Figure size 576x576 with 1 Axes>"
      ]
     },
     "metadata": {
      "needs_background": "light"
     },
     "output_type": "display_data"
    }
   ],
   "source": [
    "# iterative approaches\n",
    "plot(fibs_to_use=[2, 4, 5, 6,])"
   ]
  },
  {
   "cell_type": "code",
   "execution_count": 17,
   "id": "dcfef5ec-7c29-4e5d-beda-3bd5becb96f3",
   "metadata": {},
   "outputs": [
    {
     "name": "stderr",
     "output_type": "stream",
     "text": [
      "/tmp/ipykernel_2871848/3804917472.py:5: UserWarning: FixedFormatter should only be used together with FixedLocator\n",
      "  ax.set_xticklabels(str(x) for x in xs)\n",
      "/tmp/ipykernel_2871848/3804917472.py:25: UserWarning: Matplotlib is currently using module://matplotlib_inline.backend_inline, which is a non-GUI backend, so cannot show the figure.\n",
      "  fig.show()\n"
     ]
    },
    {
     "data": {
      "image/png": "[encoded data removed]",
      "text/plain": [
       "<Figure size 576x576 with 1 Axes>"
      ]
     },
     "metadata": {
      "needs_background": "light"
     },
     "output_type": "display_data"
    }
   ],
   "source": [
    "# iterative plus memoized recursive\n",
    "plot(fibs_to_use=[2, 3, 4, 5, 6,])"
   ]
  },
  {
   "cell_type": "markdown",
   "id": "2988a13a-96af-4160-8775-65d534ec8a1c",
   "metadata": {},
   "source": [
    "### Why is iterative 1 generatlly faster than iterative 2?\n",
    "\n",
    "I'm surprised by this. I would think that iterative 1's repeated calls to \n",
    "`.append()` would be significantly slower than iterative 2's usage of `[1]*x`."
   ]
  },
  {
   "cell_type": "code",
   "execution_count": 18,
   "id": "6b33f15f-e609-4e12-a242-ebb44362c439",
   "metadata": {},
   "outputs": [
    {
     "data": {
      "text/plain": [
       "1.7289442182518542"
      ]
     },
     "execution_count": 18,
     "metadata": {},
     "output_type": "execute_result"
    }
   ],
   "source": [
    "timeit(\"[1]*1000\")"
   ]
  },
  {
   "cell_type": "code",
   "execution_count": 19,
   "id": "97d2e1f6-a583-4d99-800a-ed46e89caee2",
   "metadata": {},
   "outputs": [
    {
     "data": {
      "text/plain": [
       "48.49302595388144"
      ]
     },
     "execution_count": 19,
     "metadata": {},
     "output_type": "execute_result"
    }
   ],
   "source": [
    "timeit(\"for _ in range(1000): x.append(1)\", setup=\"x=[]\")"
   ]
  },
  {
   "cell_type": "code",
   "execution_count": 20,
   "id": "ae56e626-7de0-4dc0-aa1a-da9441724b30",
   "metadata": {},
   "outputs": [
    {
     "data": {
      "text/plain": [
       "25.953689580783248"
      ]
     },
     "execution_count": 20,
     "metadata": {},
     "output_type": "execute_result"
    }
   ],
   "source": [
    "# just for laughs\n",
    "timeit(\"[1 for _ in range(1000)]\")"
   ]
  },
  {
   "cell_type": "markdown",
   "id": "308736ff-0b05-4a9d-9680-d0a6ae105248",
   "metadata": {},
   "source": [
    "We've confirmed that repeatedly calling `.append()` inside a for loop is significantly slower than using `[1]*x`\n",
    "to generate a list.\n",
    "\n",
    "So why is iterative 1 slower than iterative 2?\n",
    "\n",
    "My next theory is that is has to do with accessing elements of a list in the form `l[-1]` or `l[-2]` vs.\n",
    "`l[i-1]` or `l[i-2]`. In the former, we use fast C code to access the last or next-to-last element. In the\n",
    "latter we have to use slow Python arithmetic to determine the index to use. Let's test this out:"
   ]
  },
  {
   "cell_type": "code",
   "execution_count": 21,
   "id": "d36140f8-4e8f-4ca0-9af7-848f7f9ee1da",
   "metadata": {},
   "outputs": [],
   "source": [
    "kings_of_rome = [\"Romulus\", \"Numa Pompilius\", \"Tullius Hostilius\", \"Ancus Martius\", \"Lucius Tarquinius Priscus\", \"Servius Tullius\", \"Lucius Tarquinius Superbus\"]\n",
    "\n",
    "def f1(l):\n",
    "    for ix in range(-1, -len(l)-1, -1):\n",
    "        _ = l[ix]\n",
    "        #print(_)\n",
    "\n",
    "def f2(l):\n",
    "    for ix in range(len(l)):\n",
    "        _ = l[-1-ix]\n",
    "        #print(_)\n",
    "\n",
    "#f1(kings_of_rome)\n",
    "#f2(kings_of_rome)"
   ]
  },
  {
   "cell_type": "code",
   "execution_count": 22,
   "id": "b947a04f-58ad-4780-88e7-fe98c5e1910d",
   "metadata": {},
   "outputs": [
    {
     "data": {
      "text/plain": [
       "0.5608847611583769"
      ]
     },
     "execution_count": 22,
     "metadata": {},
     "output_type": "execute_result"
    }
   ],
   "source": [
    "timeit(\"f1(kings_of_rome)\", setup=\"from __main__ import f1, kings_of_rome\")"
   ]
  },
  {
   "cell_type": "code",
   "execution_count": 23,
   "id": "bf92573d-1c69-4fcd-80bb-452c9737e53e",
   "metadata": {},
   "outputs": [
    {
     "data": {
      "text/plain": [
       "0.5385349900461733"
      ]
     },
     "execution_count": 23,
     "metadata": {},
     "output_type": "execute_result"
    }
   ],
   "source": [
    "timeit(\"f2(kings_of_rome)\", setup=\"from __main__ import f2, kings_of_rome\")"
   ]
  },
  {
   "cell_type": "markdown",
   "id": "96cd65e1-bdf8-455f-bca2-ea21c9fb10a7",
   "metadata": {},
   "source": [
    "Found the culprit!"
   ]
  },
  {
   "cell_type": "code",
   "execution_count": null,
   "id": "cda9c196-3b62-4a86-84b5-897ff6d3b7dc",
   "metadata": {},
   "outputs": [],
   "source": []
  }
 ],
 "metadata": {
  "kernelspec": {
   "display_name": "python3.9",
   "language": "python",
   "name": "python3.9"
  },
  "language_info": {
   "codemirror_mode": {
    "name": "ipython",
    "version": 3
   },
   "file_extension": ".py",
   "mimetype": "text/x-python",
   "name": "python",
   "nbconvert_exporter": "python",
   "pygments_lexer": "ipython3",
   "version": "3.9.6"
  }
 },
 "nbformat": 4,
 "nbformat_minor": 5
}
