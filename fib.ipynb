{
 "cells": [
  {
   "cell_type": "code",
   "execution_count": 1,
   "id": "0a892eb6-be57-434c-87ed-2b9140fd1814",
   "metadata": {},
   "outputs": [],
   "source": [
    "from five_one_one import is_python_version\n",
    "assert is_python_version(3, 9, 6)"
   ]
  },
  {
   "cell_type": "code",
   "execution_count": 2,
   "id": "f56a7905-d1d6-471d-b47b-6fb1ffd42423",
   "metadata": {},
   "outputs": [],
   "source": [
    "from math import sqrt\n",
    "from time import time"
   ]
  },
  {
   "cell_type": "code",
   "execution_count": 3,
   "id": "82492304-98c9-47ff-9bda-a3c37ca4fc6e",
   "metadata": {},
   "outputs": [],
   "source": [
    "def test_fib(f):\n",
    "    assert f(1) == 1\n",
    "    assert f(2) == 1\n",
    "    assert f(3) == 2\n",
    "    assert f(4) == 3\n",
    "    assert f(5) == 5\n",
    "    assert f(6) == 8\n",
    "    assert f(7) == 13\n",
    "    assert f(8) == 21"
   ]
  },
  {
   "cell_type": "code",
   "execution_count": 4,
   "id": "b8aad303-ae98-475a-8144-ce2ba01b7837",
   "metadata": {},
   "outputs": [],
   "source": [
    "def fib0(x):\n",
    "    \"\"\"\n",
    "        Recursive implementation with no `if`s and no `assert`s\n",
    "    \"\"\"\n",
    "    try:\n",
    "        # raises ValueError if x is negative\n",
    "        _ = sqrt(x)\n",
    "        # raises ZeroDivisionError if x is 0\n",
    "        _ = 1 / x\n",
    "        # raises ZeroDivisionError if x is 1\n",
    "        _ = 1 / (x - 1)\n",
    "        # raises ZeroDivisionError if x is 2\n",
    "        _ = 1 / (x - 2)\n",
    "    except (ZeroDivisionError, ValueError):\n",
    "        # if x <= 2, return 1\n",
    "        return 1\n",
    "    \n",
    "    return fib0(x-1) + fib0(x-2)\n",
    "\n",
    "test_fib(fib0)"
   ]
  },
  {
   "cell_type": "code",
   "execution_count": 5,
   "id": "a3ddf339-452e-4810-a888-66268684b11b",
   "metadata": {},
   "outputs": [],
   "source": [
    "def fib1(x):\n",
    "    \"\"\"\n",
    "        Classic recursive solution\n",
    "    \"\"\"\n",
    "    if x <= 2:\n",
    "        return 1\n",
    "    return fib1(x-1) + fib1(x-2)\n",
    "\n",
    "test_fib(fib1)"
   ]
  },
  {
   "cell_type": "code",
   "execution_count": 6,
   "id": "4bf47ce6-19bc-4d84-8a4d-4a7d180f4bec",
   "metadata": {},
   "outputs": [],
   "source": [
    "def fib2(x):\n",
    "    \"\"\"\n",
    "        Classic iterative approach\n",
    "    \"\"\"\n",
    "    if x <= 2:\n",
    "        return 1\n",
    "    seq = [1, 1]\n",
    "    while len(seq) < x:\n",
    "        seq.append(seq[-1] + seq[-2])\n",
    "    return seq[x-1]\n",
    "\n",
    "test_fib(fib2)"
   ]
  },
  {
   "cell_type": "code",
   "execution_count": 7,
   "id": "50e0d534-cdc6-4c8d-a1e4-a4ca77eb21cf",
   "metadata": {},
   "outputs": [],
   "source": [
    "def fib3(x):\n",
    "    \"\"\"\n",
    "        Recursive solution with memoization\n",
    "    \"\"\"\n",
    "    \n",
    "    if x <= 2:\n",
    "        return 1\n",
    "    \n",
    "    memo = {1: 1, 2: 1}\n",
    "    def fib3_inner(_x):\n",
    "        if _x not in memo:\n",
    "            memo[_x] = fib3_inner(_x-1) + fib3_inner(_x-2)\n",
    "        return memo[_x]\n",
    "    \n",
    "    return fib3_inner(x)\n",
    "\n",
    "test_fib(fib3)"
   ]
  },
  {
   "cell_type": "code",
   "execution_count": 8,
   "id": "932eedce-df7e-4f1b-a3ef-093042aed108",
   "metadata": {},
   "outputs": [],
   "source": [
    "def fib4(x):\n",
    "    \"\"\"\n",
    "        Alternate iterative approach\n",
    "    \"\"\"\n",
    "    if x <= 2:\n",
    "        return 1\n",
    "    seq = [1]*x\n",
    "    for i in range(2, x):\n",
    "        seq[i] = seq[i-1] + seq[i-2]\n",
    "    return seq[-1]\n",
    "\n",
    "test_fib(fib4)"
   ]
  },
  {
   "cell_type": "code",
   "execution_count": 9,
   "id": "41e899cf-0810-45fa-a959-848c510acee3",
   "metadata": {},
   "outputs": [],
   "source": [
    "import matplotlib.pyplot as plt\n",
    "import numpy as np\n",
    "from timeit import timeit"
   ]
  },
  {
   "cell_type": "code",
   "execution_count": 10,
   "id": "e6790ffc-8861-4f4e-a91a-00dfed779bce",
   "metadata": {},
   "outputs": [],
   "source": [
    "# arguments to fib\n",
    "xs = np.array(range(5, 26, 5))"
   ]
  },
  {
   "cell_type": "code",
   "execution_count": 11,
   "id": "ee907b77-8124-4695-9681-c488f87cf0b6",
   "metadata": {},
   "outputs": [],
   "source": [
    "# this block will probably take a while to run\n",
    "\n",
    "ys = np.array([\n",
    "    [\n",
    "        timeit(f\"fib({x})\", setup=f\"from __main__ import fib{n} as fib\", number=10)\n",
    "        for x in xs\n",
    "    ]\n",
    "    for n in range(5)\n",
    "])\n"
   ]
  },
  {
   "cell_type": "code",
   "execution_count": 12,
   "id": "f00a225c-a0ad-489d-b2dc-e865a4718dd8",
   "metadata": {},
   "outputs": [],
   "source": [
    "def plot(fibs_to_use=[0, 1, 2, 3, 4,]):\n",
    "    fig, ax = plt.subplots(nrows=1, ncols=1, figsize=(8, 8))\n",
    "\n",
    "    ax.set_xlabel(\"Arg to fib\")\n",
    "    ax.set_xticklabels(str(x) for x in xs)\n",
    "    ax.set_xticks(xs)\n",
    "\n",
    "    ax.set_ylabel(\"Runtime (seconds)\")\n",
    "\n",
    "    bars = [ax.bar(xs+ix, ys[ix]) for ix in fibs_to_use]\n",
    "\n",
    "    legend = [\"try/except\", \"naive recursive\", \"iterative 1\", \"memoized recursive\", \"iterative 2\"]\n",
    "    ax.legend(bars, [legend[ix] for ix in fibs_to_use])\n",
    "\n",
    "    fig.show()"
   ]
  },
  {
   "cell_type": "code",
   "execution_count": 13,
   "id": "4ea6483c-2789-4465-9fb5-4cc919694307",
   "metadata": {},
   "outputs": [
    {
     "name": "stderr",
     "output_type": "stream",
     "text": [
      "/tmp/ipykernel_2858670/4046738398.py:5: UserWarning: FixedFormatter should only be used together with FixedLocator\n",
      "  ax.set_xticklabels(str(x) for x in xs)\n",
      "/tmp/ipykernel_2858670/4046738398.py:15: UserWarning: Matplotlib is currently using module://matplotlib_inline.backend_inline, which is a non-GUI backend, so cannot show the figure.\n",
      "  fig.show()\n"
     ]
    },
    {
     "data": {
      "image/png": "[encoded data removed]",
      "text/plain": [
       "<Figure size 576x576 with 1 Axes>"
      ]
     },
     "metadata": {
      "needs_background": "light"
     },
     "output_type": "display_data"
    }
   ],
   "source": [
    "plot()"
   ]
  },
  {
   "cell_type": "code",
   "execution_count": 14,
   "id": "57695857-a551-45e8-8f12-17cd112990d4",
   "metadata": {},
   "outputs": [
    {
     "name": "stderr",
     "output_type": "stream",
     "text": [
      "/tmp/ipykernel_2858670/4046738398.py:5: UserWarning: FixedFormatter should only be used together with FixedLocator\n",
      "  ax.set_xticklabels(str(x) for x in xs)\n",
      "/tmp/ipykernel_2858670/4046738398.py:15: UserWarning: Matplotlib is currently using module://matplotlib_inline.backend_inline, which is a non-GUI backend, so cannot show the figure.\n",
      "  fig.show()\n"
     ]
    },
    {
     "data": {
      "image/png": "[encoded data removed]",
      "text/plain": [
       "<Figure size 576x576 with 1 Axes>"
      ]
     },
     "metadata": {
      "needs_background": "light"
     },
     "output_type": "display_data"
    }
   ],
   "source": [
    "plot(fibs_to_use=[2, 3, 4,])"
   ]
  },
  {
   "cell_type": "code",
   "execution_count": null,
   "id": "7c1e565f-b981-4801-912f-954c855a0f25",
   "metadata": {},
   "outputs": [],
   "source": []
  }
 ],
 "metadata": {
  "kernelspec": {
   "display_name": "python3.9",
   "language": "python",
   "name": "python3.9"
  },
  "language_info": {
   "codemirror_mode": {
    "name": "ipython",
    "version": 3
   },
   "file_extension": ".py",
   "mimetype": "text/x-python",
   "name": "python",
   "nbconvert_exporter": "python",
   "pygments_lexer": "ipython3",
   "version": "3.9.6"
  }
 },
 "nbformat": 4,
 "nbformat_minor": 5
}
