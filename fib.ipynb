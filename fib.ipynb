{
 "cells": [
  {
   "cell_type": "code",
   "execution_count": 1,
   "id": "0a892eb6-be57-434c-87ed-2b9140fd1814",
   "metadata": {},
   "outputs": [],
   "source": [
    "# feel free to comment out this code block\n",
    "\n",
    "from five_one_one import is_python_version\n",
    "\n",
    "assert is_python_version(3, 9, 7)"
   ]
  },
  {
   "cell_type": "code",
   "execution_count": 2,
   "id": "f56a7905-d1d6-471d-b47b-6fb1ffd42423",
   "metadata": {},
   "outputs": [],
   "source": [
    "from math import sqrt\n",
    "from time import time"
   ]
  },
  {
   "cell_type": "code",
   "execution_count": 3,
   "id": "82492304-98c9-47ff-9bda-a3c37ca4fc6e",
   "metadata": {},
   "outputs": [],
   "source": [
    "def test_fib(f):\n",
    "    assert f(1) == 1\n",
    "    assert f(2) == 1\n",
    "    assert f(3) == 2\n",
    "    assert f(4) == 3\n",
    "    assert f(5) == 5\n",
    "    assert f(6) == 8\n",
    "    assert f(7) == 13\n",
    "    assert f(8) == 21"
   ]
  },
  {
   "cell_type": "code",
   "execution_count": 4,
   "id": "b8aad303-ae98-475a-8144-ce2ba01b7837",
   "metadata": {},
   "outputs": [],
   "source": [
    "def fib0(x):\n",
    "    \"\"\"\n",
    "        Recursive implementation with no `if`s and no `assert`s\n",
    "    \"\"\"\n",
    "    try:\n",
    "        # raises ValueError if x is negative or <= 2\n",
    "        _ = sqrt(x-3)\n",
    "    except (ZeroDivisionError, ValueError):\n",
    "        # if x <= 2, return 1\n",
    "        return 1\n",
    "    \n",
    "    return fib0(x-1) + fib0(x-2)\n",
    "\n",
    "test_fib(fib0)"
   ]
  },
  {
   "cell_type": "code",
   "execution_count": 5,
   "id": "a3ddf339-452e-4810-a888-66268684b11b",
   "metadata": {},
   "outputs": [],
   "source": [
    "def fib1(x):\n",
    "    \"\"\"\n",
    "        Classic recursive solution\n",
    "    \"\"\"\n",
    "    if x <= 2:\n",
    "        return 1\n",
    "    return fib1(x-1) + fib1(x-2)\n",
    "\n",
    "test_fib(fib1)"
   ]
  },
  {
   "cell_type": "code",
   "execution_count": 6,
   "id": "4bf47ce6-19bc-4d84-8a4d-4a7d180f4bec",
   "metadata": {},
   "outputs": [],
   "source": [
    "def fib2(x):\n",
    "    \"\"\"\n",
    "        Classic iterative approach\n",
    "    \"\"\"\n",
    "    if x <= 2:\n",
    "        return 1\n",
    "    seq = [1, 1]\n",
    "    while len(seq) < x:\n",
    "        seq.append(seq[-1] + seq[-2])\n",
    "    return seq[x-1]\n",
    "\n",
    "test_fib(fib2)"
   ]
  },
  {
   "cell_type": "code",
   "execution_count": 7,
   "id": "50e0d534-cdc6-4c8d-a1e4-a4ca77eb21cf",
   "metadata": {},
   "outputs": [],
   "source": [
    "def fib3(x):\n",
    "    \"\"\"\n",
    "        Recursive solution with memoization\n",
    "    \"\"\"\n",
    "    \n",
    "    if x <= 2:\n",
    "        return 1\n",
    "    \n",
    "    memo = {1: 1, 2: 1}\n",
    "    def fib3_inner(_x):\n",
    "        if _x not in memo:\n",
    "            memo[_x] = fib3_inner(_x-1) + fib3_inner(_x-2)\n",
    "        return memo[_x]\n",
    "    \n",
    "    return fib3_inner(x)\n",
    "\n",
    "test_fib(fib3)"
   ]
  },
  {
   "cell_type": "code",
   "execution_count": 8,
   "id": "932eedce-df7e-4f1b-a3ef-093042aed108",
   "metadata": {},
   "outputs": [],
   "source": [
    "def fib4(x):\n",
    "    \"\"\"\n",
    "        Alternate iterative approach\n",
    "    \"\"\"\n",
    "    if x <= 2:\n",
    "        return 1\n",
    "    seq = [1]*x\n",
    "    for i in range(2, x):\n",
    "        seq[i] = seq[i-1] + seq[i-2]\n",
    "    return seq[-1]\n",
    "\n",
    "test_fib(fib4)"
   ]
  },
  {
   "cell_type": "code",
   "execution_count": 9,
   "id": "fbb6ef48-18e2-49a1-b1eb-c08cebe6d8a3",
   "metadata": {},
   "outputs": [],
   "source": [
    "def fib5(x):\n",
    "    \"\"\"\n",
    "        Clever iterative approach that doesn't require a list (with for loop)\n",
    "    \"\"\"\n",
    "    if x <= 2:\n",
    "        return 1\n",
    "    former, latter = 1, 1\n",
    "    for _ in range(2, x):\n",
    "        former, latter = latter, former+latter\n",
    "    return latter\n",
    "\n",
    "test_fib(fib5)"
   ]
  },
  {
   "cell_type": "code",
   "execution_count": 10,
   "id": "f8b2e102-7965-4b71-97be-1acf79630e0f",
   "metadata": {},
   "outputs": [],
   "source": [
    "def fib6(x):\n",
    "    \"\"\"\n",
    "        Clever iterative approach that doesn't require a list (with while loop)\n",
    "    \"\"\"\n",
    "    if x <= 2:\n",
    "        return 1\n",
    "    former, latter = 1, 1\n",
    "    ix = 2\n",
    "    while ix < x:\n",
    "        former, latter = latter, former+latter\n",
    "        ix += 1\n",
    "    return latter\n",
    "\n",
    "test_fib(fib6)"
   ]
  },
  {
   "cell_type": "code",
   "execution_count": 11,
   "id": "1308f093-1f44-4f72-bee7-ca3903716a86",
   "metadata": {},
   "outputs": [],
   "source": [
    "def fib7(x):\n",
    "    \"\"\"\n",
    "        Iterative approach using a list multiplier and a while loop\n",
    "    \"\"\"\n",
    "    if x <= 2:\n",
    "        return 1\n",
    "    seq = [1]*x\n",
    "    ix = 2\n",
    "    while ix < x:\n",
    "        seq[ix] = seq[ix-1] + seq[ix-2]\n",
    "        ix += 1\n",
    "    return seq[-1]\n",
    "\n",
    "test_fib(fib7)"
   ]
  },
  {
   "cell_type": "code",
   "execution_count": 12,
   "id": "78766786-c290-44f3-b7d4-2c595f41b9e0",
   "metadata": {},
   "outputs": [],
   "source": [
    "from five_one_one.c import npfib\n",
    "\n",
    "def fib8(x):\n",
    "    \"\"\"\n",
    "        Numpy\n",
    "    \"\"\"\n",
    "    arr = npfib(x)\n",
    "    return arr[-1]\n",
    "\n",
    "test_fib(fib8)"
   ]
  },
  {
   "cell_type": "code",
   "execution_count": 13,
   "id": "d501194e-f83d-45ae-a00d-91ad3423d1d9",
   "metadata": {},
   "outputs": [],
   "source": [
    "# see setup.py and pyfib.c (root directory of this repository)\n",
    "\n",
    "from five_one_one.c import cfib as fib9\n",
    "\n",
    "test_fib(fib9)"
   ]
  },
  {
   "cell_type": "code",
   "execution_count": 53,
   "id": "41e899cf-0810-45fa-a959-848c510acee3",
   "metadata": {},
   "outputs": [],
   "source": [
    "import matplotlib.pyplot as plt\n",
    "#import numpy as np\n",
    "from timeit import timeit"
   ]
  },
  {
   "cell_type": "code",
   "execution_count": 54,
   "id": "e6790ffc-8861-4f4e-a91a-00dfed779bce",
   "metadata": {},
   "outputs": [],
   "source": [
    "import numpy as np\n",
    "# arguments to fib\n",
    "MIN = 5\n",
    "MAX = 25\n",
    "INC = 5\n",
    "xs = np.array(range(MIN, MAX+1, INC))"
   ]
  },
  {
   "cell_type": "code",
   "execution_count": 55,
   "id": "ee907b77-8124-4695-9681-c488f87cf0b6",
   "metadata": {},
   "outputs": [],
   "source": [
    "# this block will probably take a while to run\n",
    "\n",
    "ys = np.array([\n",
    "    [\n",
    "        timeit(f\"fib({x})\", setup=f\"from __main__ import fib{n} as fib\", number=10)\n",
    "        for x in xs\n",
    "    ]\n",
    "    for n in range(10)\n",
    "])\n"
   ]
  },
  {
   "cell_type": "code",
   "execution_count": 56,
   "id": "f00a225c-a0ad-489d-b2dc-e865a4718dd8",
   "metadata": {},
   "outputs": [],
   "source": [
    "def plot(fibs_to_use=[0, 1, 2, 3, 4, 5, 6]):\n",
    "    fig, ax = plt.subplots(nrows=1, ncols=1, figsize=(8, 8))\n",
    "\n",
    "    ax.set_xlabel(\"Arg to fib\")\n",
    "    ax.set_xticklabels(str(x) for x in xs)\n",
    "    ax.set_xticks(xs)\n",
    "\n",
    "    ax.set_ylabel(\"Runtime (seconds)\")\n",
    "\n",
    "    legend_and_colors = [\n",
    "        (\"try/except\", \"red\",),\n",
    "        (\"naive recursive\", \"orange\",),\n",
    "        (\"iterative (list, while, append)\", \"lightblue\",),\n",
    "        (\"memoized recursive\", \"yellow\",),\n",
    "        (\"iterative (list, for, list multiplier)\", \"darkblue\",),\n",
    "        (\"iterative (clever, for)\", \"lightgreen\",),\n",
    "        (\"iterative (clever, while)\", \"darkgreen\",),\n",
    "        (\"iterative (list, while, list multiplier)\", \"blue\",),\n",
    "        (\"iterative (np.array, while)\", \"gray\",),\n",
    "        (\"cheating (C)\", \"#511\",),\n",
    "    ]\n",
    "    legend, colors = zip(*legend_and_colors)\n",
    "    \n",
    "    width = float(INC)/float(len(fibs_to_use)+1)\n",
    "    bars = [ax.bar(xs+(s*width), ys[ix], width=width-0.1, color=colors[ix]) for s, ix in enumerate(fibs_to_use)]\n",
    "    ax.legend(bars, [legend[ix] for ix in fibs_to_use])\n",
    "    \n",
    "    fig.show()"
   ]
  },
  {
   "cell_type": "code",
   "execution_count": 57,
   "id": "4ea6483c-2789-4465-9fb5-4cc919694307",
   "metadata": {},
   "outputs": [
    {
     "name": "stderr",
     "output_type": "stream",
     "text": [
      "/tmp/ipykernel_1662639/3692797454.py:5: UserWarning: FixedFormatter should only be used together with FixedLocator\n",
      "  ax.set_xticklabels(str(x) for x in xs)\n",
      "/tmp/ipykernel_1662639/3692797454.py:28: UserWarning: Matplotlib is currently using module://matplotlib_inline.backend_inline, which is a non-GUI backend, so cannot show the figure.\n",
      "  fig.show()\n"
     ]
    },
    {
     "data": {
      "image/png": "[encoded data removed]",
      "text/plain": [
       "<Figure size 576x576 with 1 Axes>"
      ]
     },
     "metadata": {
      "needs_background": "light"
     },
     "output_type": "display_data"
    }
   ],
   "source": [
    "# compare recursive approaches\n",
    "plot(fibs_to_use=[0, 1, 3,])"
   ]
  },
  {
   "cell_type": "code",
   "execution_count": 58,
   "id": "57695857-a551-45e8-8f12-17cd112990d4",
   "metadata": {},
   "outputs": [
    {
     "name": "stderr",
     "output_type": "stream",
     "text": [
      "/tmp/ipykernel_1662639/3692797454.py:5: UserWarning: FixedFormatter should only be used together with FixedLocator\n",
      "  ax.set_xticklabels(str(x) for x in xs)\n",
      "/tmp/ipykernel_1662639/3692797454.py:28: UserWarning: Matplotlib is currently using module://matplotlib_inline.backend_inline, which is a non-GUI backend, so cannot show the figure.\n",
      "  fig.show()\n"
     ]
    },
    {
     "data": {
      "image/png": "[encoded data removed]",
      "text/plain": [
       "<Figure size 576x576 with 1 Axes>"
      ]
     },
     "metadata": {
      "needs_background": "light"
     },
     "output_type": "display_data"
    }
   ],
   "source": [
    "# iterative approaches\n",
    "plot(fibs_to_use=[2, 4, 5, 6, 7, 8, 9])"
   ]
  },
  {
   "cell_type": "code",
   "execution_count": 59,
   "id": "dcfef5ec-7c29-4e5d-beda-3bd5becb96f3",
   "metadata": {},
   "outputs": [
    {
     "name": "stderr",
     "output_type": "stream",
     "text": [
      "/tmp/ipykernel_1662639/3692797454.py:5: UserWarning: FixedFormatter should only be used together with FixedLocator\n",
      "  ax.set_xticklabels(str(x) for x in xs)\n",
      "/tmp/ipykernel_1662639/3692797454.py:28: UserWarning: Matplotlib is currently using module://matplotlib_inline.backend_inline, which is a non-GUI backend, so cannot show the figure.\n",
      "  fig.show()\n"
     ]
    },
    {
     "data": {
      "image/png": "[encoded data removed]",
      "text/plain": [
       "<Figure size 576x576 with 1 Axes>"
      ]
     },
     "metadata": {
      "needs_background": "light"
     },
     "output_type": "display_data"
    }
   ],
   "source": [
    "# iterative plus memoized recursive\n",
    "plot(fibs_to_use=[2, 3, 4, 5, 6, 7, 8, 9,])"
   ]
  },
  {
   "cell_type": "code",
   "execution_count": null,
   "id": "3b1a9522-0432-4068-90ed-3b11828f2ab6",
   "metadata": {},
   "outputs": [],
   "source": [
    "# fastest ones\n",
    "plot(fibs_to_use=[5, 6, 9,])"
   ]
  },
  {
   "cell_type": "code",
   "execution_count": null,
   "id": "99c9499b-698b-4b1d-b98f-6a75521a07ba",
   "metadata": {},
   "outputs": [],
   "source": [
    "# fib2 vs fib4\n",
    "plot(fibs_to_use=[2, 4,])"
   ]
  },
  {
   "cell_type": "markdown",
   "id": "2988a13a-96af-4160-8775-65d534ec8a1c",
   "metadata": {},
   "source": [
    "### Why is fib2 generally faster than fib4?\n",
    "\n",
    "I'm surprised by this. I would think that fib2's repeated calls to \n",
    "`.append()` would be significantly slower than fib4's usage of `[1]*x`."
   ]
  },
  {
   "cell_type": "code",
   "execution_count": 23,
   "id": "6b33f15f-e609-4e12-a242-ebb44362c439",
   "metadata": {},
   "outputs": [
    {
     "data": {
      "text/plain": [
       "1.61538420105353"
      ]
     },
     "execution_count": 23,
     "metadata": {},
     "output_type": "execute_result"
    }
   ],
   "source": [
    "timeit(\"[1]*1000\")"
   ]
  },
  {
   "cell_type": "code",
   "execution_count": 24,
   "id": "97d2e1f6-a583-4d99-800a-ed46e89caee2",
   "metadata": {},
   "outputs": [
    {
     "data": {
      "text/plain": [
       "44.94344118563458"
      ]
     },
     "execution_count": 24,
     "metadata": {},
     "output_type": "execute_result"
    }
   ],
   "source": [
    "timeit(\"for _ in range(1000): x.append(1)\", setup=\"x=[]\")"
   ]
  },
  {
   "cell_type": "code",
   "execution_count": 25,
   "id": "ae56e626-7de0-4dc0-aa1a-da9441724b30",
   "metadata": {},
   "outputs": [
    {
     "data": {
      "text/plain": [
       "22.495067124720663"
      ]
     },
     "execution_count": 25,
     "metadata": {},
     "output_type": "execute_result"
    }
   ],
   "source": [
    "# just for laughs\n",
    "timeit(\"[1 for _ in range(1000)]\")"
   ]
  },
  {
   "cell_type": "code",
   "execution_count": 26,
   "id": "08b39291-c7e2-463b-9cf6-fd8af7f516dd",
   "metadata": {},
   "outputs": [
    {
     "data": {
      "text/plain": [
       "1.500084131024778"
      ]
     },
     "execution_count": 26,
     "metadata": {},
     "output_type": "execute_result"
    }
   ],
   "source": [
    "# :3\n",
    "timeit(\"np.ones((1000,), dtype=np.int64)\", setup=\"import numpy as np\")"
   ]
  },
  {
   "cell_type": "markdown",
   "id": "308736ff-0b05-4a9d-9680-d0a6ae105248",
   "metadata": {},
   "source": [
    "We've confirmed that repeatedly calling `.append()` inside a for loop is significantly slower than using `[1]*x`\n",
    "to generate a list.\n",
    "\n",
    "So why is iterative 1 slower than iterative 2?\n",
    "\n",
    "My next theory is that is has to do with accessing elements of a list in the form `l[-1]` or `l[-2]` vs.\n",
    "`l[i-1]` or `l[i-2]`. In the former, we use fast C code to access the last or next-to-last element. In the\n",
    "latter we have to use slow Python arithmetic to determine the index to use. Let's test this out:"
   ]
  },
  {
   "cell_type": "code",
   "execution_count": 27,
   "id": "d36140f8-4e8f-4ca0-9af7-848f7f9ee1da",
   "metadata": {},
   "outputs": [],
   "source": [
    "kings_of_rome = [\"Romulus\", \"Numa Pompilius\", \"Tullius Hostilius\", \"Ancus Martius\", \"Lucius Tarquinius Priscus\", \"Servius Tullius\", \"Lucius Tarquinius Superbus\"]\n",
    "\n",
    "def f1(l):\n",
    "    for ix in range(-1, -len(l)-1, -1):\n",
    "        _ = l[ix]\n",
    "        #print(_)\n",
    "\n",
    "def f2(l):\n",
    "    for ix in range(len(l)):\n",
    "        _ = l[-1-ix]\n",
    "        #print(_)\n",
    "\n",
    "#f1(kings_of_rome)\n",
    "#f2(kings_of_rome)"
   ]
  },
  {
   "cell_type": "code",
   "execution_count": 28,
   "id": "b947a04f-58ad-4780-88e7-fe98c5e1910d",
   "metadata": {},
   "outputs": [
    {
     "data": {
      "text/plain": [
       "0.42265249555930495"
      ]
     },
     "execution_count": 28,
     "metadata": {},
     "output_type": "execute_result"
    }
   ],
   "source": [
    "timeit(\"f1(kings_of_rome)\", setup=\"from __main__ import f1, kings_of_rome\")"
   ]
  },
  {
   "cell_type": "code",
   "execution_count": 29,
   "id": "bf92573d-1c69-4fcd-80bb-452c9737e53e",
   "metadata": {},
   "outputs": [
    {
     "data": {
      "text/plain": [
       "0.4444397920742631"
      ]
     },
     "execution_count": 29,
     "metadata": {},
     "output_type": "execute_result"
    }
   ],
   "source": [
    "timeit(\"f2(kings_of_rome)\", setup=\"from __main__ import f2, kings_of_rome\")"
   ]
  },
  {
   "cell_type": "markdown",
   "id": "96cd65e1-bdf8-455f-bca2-ea21c9fb10a7",
   "metadata": {},
   "source": [
    "Found the culprit!"
   ]
  },
  {
   "cell_type": "code",
   "execution_count": 30,
   "id": "cda9c196-3b62-4a86-84b5-897ff6d3b7dc",
   "metadata": {},
   "outputs": [],
   "source": [
    "emperors_of_rome = [\n",
    "    \"Augustus\", # Start of Julio-Claudian Dynasty\n",
    "    \"Tiberius\",\n",
    "    \"Caligula\",\n",
    "    \"Claudius\", # I, Claudius\n",
    "    \"Nero\",\n",
    "    \"Galba\", # Year of 4 Emperors\n",
    "    \"Otho\",\n",
    "    \"Vitelius\",\n",
    "    \"Vespasian\", # Start of Flavian Dynasty\n",
    "    \"Titus\",\n",
    "    \"Dominitian\",\n",
    "    \"Nerva\", # Start of Nerva-Antonine Dynasty/\"5 good emperors\"\n",
    "    \"Trajan\",\n",
    "    \"Hadrian\",\n",
    "    \"Antoninus Pius\",\n",
    "    \"Marcus Aurelius\",\n",
    "    \"Commodus\", # Marcus Aurelius's idiot son\n",
    "    \"Pertinax\", # Year of 5 emperors (not all listed)\n",
    "    \"Didius Julianus\",\n",
    "    \"Septimius Severus\", # Severan dynasty\n",
    "    \"Caracalla\",\n",
    "    \"Geta\",\n",
    "    \"Macrinus/Diadumanian\",\n",
    "    \"Elagabalus\",\n",
    "    \"Severus Alexander\",\n",
    "    \"Maximinus Thrax\",\n",
    "    \"Gordian I\", # Gordian Dynasty\n",
    "    \"Gordian II\",\n",
    "    \"Pupienus\",\n",
    "    \"Balbinus\",\n",
    "    \"Gordian III\",\n",
    "    # starting to get into crisis of 3rd century and it would get messy\n",
    "    # not continuing\n",
    "]"
   ]
  },
  {
   "cell_type": "code",
   "execution_count": 31,
   "id": "90c8bfc2-1733-4755-8347-b87fbd0ccd73",
   "metadata": {},
   "outputs": [
    {
     "data": {
      "text/plain": [
       "1000"
      ]
     },
     "execution_count": 31,
     "metadata": {},
     "output_type": "execute_result"
    }
   ],
   "source": [
    "import operator, functools\n",
    "\n",
    "functools.reduce(operator.add, np.ones((1000,), dtype=np.int64))"
   ]
  },
  {
   "cell_type": "code",
   "execution_count": 32,
   "id": "f8f030e3-42b1-4e17-904f-2c6d769db454",
   "metadata": {},
   "outputs": [],
   "source": [
    "ones = np.ones((1000, 2,), dtype=np.int64)"
   ]
  },
  {
   "cell_type": "code",
   "execution_count": 33,
   "id": "babcc5b5-78da-4147-966c-145d4917b518",
   "metadata": {},
   "outputs": [],
   "source": [
    "ones[1] = (1, 2)"
   ]
  },
  {
   "cell_type": "code",
   "execution_count": 34,
   "id": "720aeb3f-f5d7-4c18-b8e0-610305a0ca0e",
   "metadata": {},
   "outputs": [
    {
     "data": {
      "text/plain": [
       "array([[1, 1],\n",
       "       [1, 2],\n",
       "       [1, 1],\n",
       "       ...,\n",
       "       [1, 1],\n",
       "       [1, 1],\n",
       "       [1, 1]])"
      ]
     },
     "execution_count": 34,
     "metadata": {},
     "output_type": "execute_result"
    }
   ],
   "source": [
    "ones"
   ]
  },
  {
   "cell_type": "code",
   "execution_count": null,
   "id": "0707bf57-113e-4b2a-8800-75e5ad7177c4",
   "metadata": {},
   "outputs": [],
   "source": []
  }
 ],
 "metadata": {
  "kernelspec": {
   "display_name": "python3.9",
   "language": "python",
   "name": "python3.9"
  },
  "language_info": {
   "codemirror_mode": {
    "name": "ipython",
    "version": 3
   },
   "file_extension": ".py",
   "mimetype": "text/x-python",
   "name": "python",
   "nbconvert_exporter": "python",
   "pygments_lexer": "ipython3",
   "version": "3.9.7"
  }
 },
 "nbformat": 4,
 "nbformat_minor": 5
}
